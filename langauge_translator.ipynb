{
 "cells": [
  {
   "cell_type": "code",
   "execution_count": 1,
   "id": "8e4f8c82",
   "metadata": {},
   "outputs": [
    {
     "name": "stdout",
     "output_type": "stream",
     "text": [
      "Requirement already satisfied: translate in c:\\users\\m.abhisri\\appdata\\local\\programs\\python\\python311\\lib\\site-packages (3.6.1)Note: you may need to restart the kernel to use updated packages.\n",
      "\n",
      "Requirement already satisfied: click in c:\\users\\m.abhisri\\appdata\\local\\programs\\python\\python311\\lib\\site-packages (from translate) (8.1.3)\n",
      "Requirement already satisfied: lxml in c:\\users\\m.abhisri\\appdata\\local\\programs\\python\\python311\\lib\\site-packages (from translate) (4.9.2)\n",
      "Requirement already satisfied: requests in c:\\users\\m.abhisri\\appdata\\local\\programs\\python\\python311\\lib\\site-packages (from translate) (2.28.2)\n",
      "Requirement already satisfied: libretranslatepy==2.1.1 in c:\\users\\m.abhisri\\appdata\\local\\programs\\python\\python311\\lib\\site-packages (from translate) (2.1.1)\n",
      "Requirement already satisfied: colorama in c:\\users\\m.abhisri\\appdata\\local\\programs\\python\\python311\\lib\\site-packages (from click->translate) (0.4.6)\n",
      "Requirement already satisfied: charset-normalizer<4,>=2 in c:\\users\\m.abhisri\\appdata\\local\\programs\\python\\python311\\lib\\site-packages (from requests->translate) (3.1.0)\n",
      "Requirement already satisfied: idna<4,>=2.5 in c:\\users\\m.abhisri\\appdata\\local\\programs\\python\\python311\\lib\\site-packages (from requests->translate) (2.10)\n",
      "Requirement already satisfied: urllib3<1.27,>=1.21.1 in c:\\users\\m.abhisri\\appdata\\local\\programs\\python\\python311\\lib\\site-packages (from requests->translate) (1.26.15)\n",
      "Requirement already satisfied: certifi>=2017.4.17 in c:\\users\\m.abhisri\\appdata\\local\\programs\\python\\python311\\lib\\site-packages (from requests->translate) (2022.12.7)\n"
     ]
    }
   ],
   "source": [
    "pip install translate\n"
   ]
  },
  {
   "cell_type": "code",
   "execution_count": 21,
   "id": "afb4cb3c",
   "metadata": {},
   "outputs": [],
   "source": [
    "from translate import Translator"
   ]
  },
  {
   "cell_type": "code",
   "execution_count": 16,
   "id": "f82c2537",
   "metadata": {},
   "outputs": [],
   "source": [
    "def translate_text(text, target_language):\n",
    "    translator = Translator(to_lang=target_language)\n",
    "    translated_text = translator.translate(text)\n",
    "    return translated_text\n"
   ]
  },
  {
   "cell_type": "code",
   "execution_count": 22,
   "id": "170e1039",
   "metadata": {},
   "outputs": [
    {
     "name": "stdout",
     "output_type": "stream",
     "text": [
      "Translated Text: హలో, ఎలా ఉన్నారు?\n"
     ]
    }
   ],
   "source": [
    "text = \"Hello, how are you?\"\n",
    "target_language = \"te\"  \n",
    "\n",
    "translated_text = translate_text(text, target_language)\n",
    "print(\"Translated Text:\", translated_text)\n"
   ]
  },
  {
   "cell_type": "code",
   "execution_count": 23,
   "id": "57bdde16",
   "metadata": {},
   "outputs": [
    {
     "name": "stdout",
     "output_type": "stream",
     "text": [
      "Translated Text: आपका नाम क्या है?\n"
     ]
    }
   ],
   "source": [
    "text =\"what is your name ?\"\n",
    "target_language = \"Hi\"  \n",
    "\n",
    "translated_text = translate_text(text, target_language)\n",
    "print(\"Translated Text:\", translated_text)\n"
   ]
  },
  {
   "cell_type": "code",
   "execution_count": 6,
   "id": "551053b8",
   "metadata": {},
   "outputs": [
    {
     "name": "stdout",
     "output_type": "stream",
     "text": [
      "Translated Text: C'est en forgeant que l'on devient forgeron\n"
     ]
    }
   ],
   "source": [
    "text = \"practice makes man perfect\"\n",
    "target_language = \"fr\"  # french\n",
    "\n",
    "translated_text = translate_text(text, target_language)\n",
    "print(\"Translated Text:\", translated_text)\n"
   ]
  },
  {
   "cell_type": "code",
   "execution_count": 24,
   "id": "9ec95097",
   "metadata": {},
   "outputs": [
    {
     "name": "stdout",
     "output_type": "stream",
     "text": [
      "Translated Text: మీ తల్లి పేరు ఏమిటి\n"
     ]
    }
   ],
   "source": [
    "text = \"what is mother name?\"\n",
    "target_language = \"te\"  # Telugu\n",
    "\n",
    "translated_text = translate_text(text, target_language)\n",
    "print(\"Translated Text:\", translated_text)"
   ]
  },
  {
   "cell_type": "code",
   "execution_count": 25,
   "id": "c3ee6165",
   "metadata": {},
   "outputs": [
    {
     "name": "stdout",
     "output_type": "stream",
     "text": [
      "Translated Text: आपके कॉलेज का नाम क्या है?\n"
     ]
    }
   ],
   "source": [
    "text = \"what isYour college name?\"\n",
    "target_language = \"hi\"  #Hindi\n",
    "\n",
    "translated_text = translate_text(text, target_language)\n",
    "print(\"Translated Text:\", translated_text)"
   ]
  },
  {
   "cell_type": "code",
   "execution_count": 26,
   "id": "fefe13d6",
   "metadata": {},
   "outputs": [
    {
     "name": "stdout",
     "output_type": "stream",
     "text": [
      "Translated Text: మీ అర్హత ఏమిటి?\n"
     ]
    }
   ],
   "source": [
    "text = \"what is your Qualification?\"\n",
    "target_language = \"te\"  #Telugu\n",
    "\n",
    "translated_text = translate_text(text, target_language)\n",
    "print(\"Translated Text:\", translated_text)"
   ]
  },
  {
   "cell_type": "code",
   "execution_count": 28,
   "id": "5db8f681",
   "metadata": {},
   "outputs": [
    {
     "name": "stdout",
     "output_type": "stream",
     "text": [
      "Translated Text: మీ కాలేజీ పేరు ఏమిటి?\n"
     ]
    }
   ],
   "source": [
    "text = \"what is your college name?\"\n",
    "target_language = \"te\"  #Telugu\n",
    "\n",
    "translated_text = translate_text(text, target_language)\n",
    "print(\"Translated Text:\", translated_text)"
   ]
  },
  {
   "cell_type": "code",
   "execution_count": null,
   "id": "5ec8e3d9",
   "metadata": {},
   "outputs": [],
   "source": []
  }
 ],
 "metadata": {
  "kernelspec": {
   "display_name": "Python 3 (ipykernel)",
   "language": "python",
   "name": "python3"
  },
  "language_info": {
   "codemirror_mode": {
    "name": "ipython",
    "version": 3
   },
   "file_extension": ".py",
   "mimetype": "text/x-python",
   "name": "python",
   "nbconvert_exporter": "python",
   "pygments_lexer": "ipython3",
   "version": "3.11.2"
  }
 },
 "nbformat": 4,
 "nbformat_minor": 5
}
